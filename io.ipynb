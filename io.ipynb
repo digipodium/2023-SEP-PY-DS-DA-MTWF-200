{
 "cells": [
  {
   "cell_type": "markdown",
   "metadata": {},
   "source": [
    "- `print()` -> output \n",
    "- `input()` -> input"
   ]
  },
  {
   "cell_type": "code",
   "execution_count": 1,
   "metadata": {},
   "outputs": [],
   "source": [
    "name = \"Alexander Hamilton\"\n",
    "city = 'Washington'"
   ]
  },
  {
   "cell_type": "code",
   "execution_count": 2,
   "metadata": {},
   "outputs": [
    {
     "name": "stdout",
     "output_type": "stream",
     "text": [
      "Information about me\n",
      "Alexander Hamilton\n",
      "Washington\n"
     ]
    }
   ],
   "source": [
    "print(\"Information about me\")\n",
    "print(name)\n",
    "print(city)"
   ]
  },
  {
   "cell_type": "code",
   "execution_count": 3,
   "metadata": {},
   "outputs": [
    {
     "name": "stdout",
     "output_type": "stream",
     "text": [
      "Information about me: Alexander Hamilton Washington\n"
     ]
    }
   ],
   "source": [
    "print('Information about me:', name, city)"
   ]
  },
  {
   "cell_type": "code",
   "execution_count": 4,
   "metadata": {},
   "outputs": [
    {
     "name": "stdout",
     "output_type": "stream",
     "text": [
      "I am Alexander Hamilton and i live in Washington\n"
     ]
    }
   ],
   "source": [
    "print('I am',name, 'and i live in', city)"
   ]
  },
  {
   "cell_type": "markdown",
   "metadata": {},
   "source": [
    "# formatted string\n",
    "these are special strings in python, where we prepend f before the opening quote,\n",
    "making the string an f-string. we can then embed python expressions directly inside\n",
    "the string. the expressions are replaced with their values."
   ]
  },
  {
   "cell_type": "code",
   "execution_count": 5,
   "metadata": {},
   "outputs": [
    {
     "name": "stdout",
     "output_type": "stream",
     "text": [
      "I am Alexander Hamilton and i live in Washington\n"
     ]
    }
   ],
   "source": [
    "print(f\"I am {name} and i live in {city}\")"
   ]
  },
  {
   "cell_type": "markdown",
   "metadata": {},
   "source": [
    "initializing multiple variables in one line\n",
    "`v1,v2,v3 = 1,2,3`"
   ]
  },
  {
   "cell_type": "code",
   "execution_count": 6,
   "metadata": {},
   "outputs": [],
   "source": [
    "n1 = \"Amjad\"\n",
    "c1 = 'Lucknow'\n",
    "n2, c2 = \"Aman\", 'Lucknow'\n",
    "n3, c3 = 'Bhupendra', 'Lucknow'\n",
    "n4, c4 = 'Sia', 'Lucknow'"
   ]
  },
  {
   "cell_type": "markdown",
   "metadata": {},
   "source": [
    "### text alignment\n",
    "`<` left (default)\n",
    "\n",
    "`^` center\n",
    "\n",
    "`>` right"
   ]
  },
  {
   "cell_type": "code",
   "execution_count": 7,
   "metadata": {},
   "outputs": [
    {
     "name": "stdout",
     "output_type": "stream",
     "text": [
      "1.      Amjad      Lucknow\n",
      "2.      Aman       Lucknow\n",
      "3.    Bhupendra    Lucknow\n",
      "4.       Sia       Lucknow\n"
     ]
    }
   ],
   "source": [
    "# alt + shift + down for duplicating the line\n",
    "print(f'1. {n1:^15} {c1}')\n",
    "print(f'2. {n2:^15} {c2}')\n",
    "print(f'3. {n3:^15} {c3}')\n",
    "print(f'4. {n4:^15} {c4}')"
   ]
  },
  {
   "cell_type": "code",
   "execution_count": 8,
   "metadata": {},
   "outputs": [
    {
     "name": "stdout",
     "output_type": "stream",
     "text": [
      "Amjad Aman Bhupendra Sia\n"
     ]
    }
   ],
   "source": [
    "print(n1,n2,n3,n4)"
   ]
  },
  {
   "cell_type": "code",
   "execution_count": 9,
   "metadata": {},
   "outputs": [
    {
     "name": "stdout",
     "output_type": "stream",
     "text": [
      "Amjad\tAman\tBhupendra\tSia\n"
     ]
    }
   ],
   "source": [
    "print(n1,n2,n3,n4, sep='\\t')"
   ]
  },
  {
   "cell_type": "code",
   "execution_count": 10,
   "metadata": {},
   "outputs": [
    {
     "name": "stdout",
     "output_type": "stream",
     "text": [
      "Amjad\n",
      "Aman\n",
      "Bhupendra\n",
      "Sia\n"
     ]
    }
   ],
   "source": [
    "print(n1,n2,n3,n4, sep='\\n')"
   ]
  },
  {
   "cell_type": "code",
   "execution_count": 11,
   "metadata": {},
   "outputs": [
    {
     "name": "stdout",
     "output_type": "stream",
     "text": [
      "Amjad, Aman, Bhupendra, Sia\n"
     ]
    }
   ],
   "source": [
    "print(n1,n2,n3,n4, sep=', ')"
   ]
  },
  {
   "cell_type": "markdown",
   "metadata": {},
   "source": [
    "# input"
   ]
  },
  {
   "cell_type": "code",
   "execution_count": 12,
   "metadata": {},
   "outputs": [
    {
     "name": "stdout",
     "output_type": "stream",
     "text": [
      "\u001b[1;31mSignature:\u001b[0m \u001b[0minput\u001b[0m\u001b[1;33m(\u001b[0m\u001b[0mprompt\u001b[0m\u001b[1;33m=\u001b[0m\u001b[1;34m''\u001b[0m\u001b[1;33m)\u001b[0m\u001b[1;33m\u001b[0m\u001b[1;33m\u001b[0m\u001b[0m\n",
      "\u001b[1;31mDocstring:\u001b[0m\n",
      "Forward raw_input to frontends\n",
      "\n",
      "Raises\n",
      "------\n",
      "StdinNotImplementedError if active frontend doesn't support stdin.\n",
      "\u001b[1;31mFile:\u001b[0m      c:\\users\\zaid\\miniconda3\\lib\\site-packages\\ipykernel\\kernelbase.py\n",
      "\u001b[1;31mType:\u001b[0m      method"
     ]
    }
   ],
   "source": [
    "input?"
   ]
  },
  {
   "cell_type": "code",
   "execution_count": 14,
   "metadata": {},
   "outputs": [
    {
     "name": "stdout",
     "output_type": "stream",
     "text": [
      "Help on method raw_input in module ipykernel.kernelbase:\n",
      "\n",
      "raw_input(prompt='') method of ipykernel.ipkernel.IPythonKernel instance\n",
      "    Forward raw_input to frontends\n",
      "    \n",
      "    Raises\n",
      "    ------\n",
      "    StdinNotImplementedError if active frontend doesn't support stdin.\n",
      "\n"
     ]
    }
   ],
   "source": [
    "help(input)"
   ]
  },
  {
   "cell_type": "code",
   "execution_count": 22,
   "metadata": {},
   "outputs": [
    {
     "name": "stdout",
     "output_type": "stream",
     "text": [
      "Luxemberg in June\n"
     ]
    }
   ],
   "source": [
    "city = input(\"Please enter the city you want to go\")\n",
    "month = input(\"Enter the month name\")\n",
    "print(f'{city} in {month}')"
   ]
  },
  {
   "cell_type": "markdown",
   "metadata": {},
   "source": [
    "### type casting - converting one data type to another"
   ]
  },
  {
   "cell_type": "code",
   "execution_count": 29,
   "metadata": {},
   "outputs": [
    {
     "name": "stdout",
     "output_type": "stream",
     "text": [
      "1000 <class 'str'>\n",
      "1000 <class 'int'>\n",
      "1.2356 <class 'float'>\n",
      "1.2356 <class 'str'>\n",
      "1 <class 'int'>\n"
     ]
    }
   ],
   "source": [
    "x = \"1000\"\n",
    "print(f'{x} {type(x)}')\n",
    "y = int(x)\n",
    "print(f'{y} {type(y)}')\n",
    "\n",
    "x = 1.2356\n",
    "print(f'{x} {type(x)}')\n",
    "x = str(x)\n",
    "print(f'{x} {type(x)}')\n",
    "x = int(float(x))\n",
    "print(f'{x} {type(x)}')"
   ]
  },
  {
   "cell_type": "code",
   "execution_count": 31,
   "metadata": {},
   "outputs": [
    {
     "name": "stdout",
     "output_type": "stream",
     "text": [
      "23123 + 34432 = 57555\n"
     ]
    }
   ],
   "source": [
    "x = int(input('enter a number:'))\n",
    "y = int(input('enter a number:'))\n",
    "z = x + y\n",
    "print(f'{x} + {y} = {z}')"
   ]
  },
  {
   "cell_type": "code",
   "execution_count": null,
   "metadata": {},
   "outputs": [],
   "source": []
  }
 ],
 "metadata": {
  "kernelspec": {
   "display_name": "base",
   "language": "python",
   "name": "python3"
  },
  "language_info": {
   "codemirror_mode": {
    "name": "ipython",
    "version": 3
   },
   "file_extension": ".py",
   "mimetype": "text/x-python",
   "name": "python",
   "nbconvert_exporter": "python",
   "pygments_lexer": "ipython3",
   "version": "3.11.5"
  },
  "orig_nbformat": 4
 },
 "nbformat": 4,
 "nbformat_minor": 2
}
