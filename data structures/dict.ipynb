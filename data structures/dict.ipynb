{
 "cells": [
  {
   "cell_type": "code",
   "execution_count": null,
   "metadata": {},
   "outputs": [],
   "source": [
    "x= {\n",
    "    'brand': \"Mahindra\",\n",
    "    'model': 'XUV',\n",
    "    'series': '500',\n",
    "    'type': \"Diesel\",\n",
    "    \"fuel capacity\": 30,\n",
    "    'mileage': 10,\n",
    "    'color': 'white',\n",
    "    'is_4wd': True,\n",
    "    'colors' : ['Red','White','Black']\n",
    "}"
   ]
  },
  {
   "cell_type": "code",
   "execution_count": null,
   "metadata": {},
   "outputs": [],
   "source": [
    "info = {} # empty dict"
   ]
  },
  {
   "cell_type": "markdown",
   "metadata": {},
   "source": [
    "- add items\n",
    "- update items\n",
    "- remove items\n",
    "- traverse items"
   ]
  },
  {
   "cell_type": "markdown",
   "metadata": {},
   "source": [
    "how to add data\n",
    "```\n",
    "dict['new_key'] = new_value\n",
    "```"
   ]
  },
  {
   "cell_type": "code",
   "execution_count": null,
   "metadata": {},
   "outputs": [],
   "source": [
    "info['first_name'] = \"Henry\"\n",
    "info"
   ]
  },
  {
   "cell_type": "code",
   "execution_count": null,
   "metadata": {},
   "outputs": [],
   "source": [
    "info['last_name'] = \"Sugar\"\n",
    "info['age'] = 45\n",
    "info['city'] = \"New York\"\n",
    "print(info)"
   ]
  },
  {
   "cell_type": "markdown",
   "metadata": {},
   "source": [
    "how to update data\n",
    "```\n",
    "dict['existing_key'] = new_value\n",
    "```"
   ]
  },
  {
   "cell_type": "code",
   "execution_count": null,
   "metadata": {},
   "outputs": [],
   "source": [
    "info['city'] = \"London\"\n",
    "print(info)"
   ]
  },
  {
   "cell_type": "markdown",
   "metadata": {},
   "source": [
    "how to remove data\n",
    "```\n",
    "dict.pop('existing_key')\n",
    "```"
   ]
  },
  {
   "cell_type": "code",
   "execution_count": null,
   "metadata": {},
   "outputs": [],
   "source": [
    "info.pop('age')"
   ]
  },
  {
   "cell_type": "code",
   "execution_count": null,
   "metadata": {},
   "outputs": [],
   "source": [
    "info"
   ]
  },
  {
   "cell_type": "markdown",
   "metadata": {},
   "source": [
    "extract keys and values\n",
    "```\n",
    "dict.keys()\n",
    "```\n",
    "```\n",
    "dict.values()\n",
    "```\n",
    "```\n",
    "dict.items()\n",
    "```"
   ]
  },
  {
   "cell_type": "code",
   "execution_count": null,
   "metadata": {},
   "outputs": [],
   "source": [
    "info.keys()"
   ]
  },
  {
   "cell_type": "code",
   "execution_count": null,
   "metadata": {},
   "outputs": [],
   "source": [
    "info.values()"
   ]
  },
  {
   "cell_type": "code",
   "execution_count": null,
   "metadata": {},
   "outputs": [],
   "source": [
    "info.items()"
   ]
  },
  {
   "cell_type": "markdown",
   "metadata": {},
   "source": [
    "fetch data from dict\n",
    "```\n",
    "dict['key'] # throws error if key does not exist\n",
    "```\n",
    "```\n",
    "dict.get('key') # returns None if key does not exist\n",
    "```"
   ]
  },
  {
   "cell_type": "code",
   "execution_count": null,
   "metadata": {},
   "outputs": [],
   "source": [
    "x['brand']"
   ]
  },
  {
   "cell_type": "code",
   "execution_count": null,
   "metadata": {},
   "outputs": [],
   "source": [
    "print(x['mileage'])\n",
    "print(x['colors'])\n",
    "# print(x['price']) # KeyError"
   ]
  },
  {
   "cell_type": "code",
   "execution_count": null,
   "metadata": {},
   "outputs": [],
   "source": [
    "print(x.get('brand'))\n",
    "print(x.get('model'))\n",
    "print(x.get('colors'))\n",
    "print(x.get('price'))"
   ]
  },
  {
   "cell_type": "markdown",
   "metadata": {},
   "source": [
    "traversing a dict"
   ]
  },
  {
   "cell_type": "code",
   "execution_count": null,
   "metadata": {},
   "outputs": [],
   "source": [
    "for i in x:\n",
    "    print(i) # prints keys"
   ]
  },
  {
   "cell_type": "code",
   "execution_count": null,
   "metadata": {},
   "outputs": [],
   "source": [
    "for i in x:\n",
    "    print(x[i]) # prints values"
   ]
  },
  {
   "cell_type": "code",
   "execution_count": null,
   "metadata": {},
   "outputs": [],
   "source": [
    "for i in x:\n",
    "    print(i, x[i]) # prints keys and values"
   ]
  },
  {
   "cell_type": "code",
   "execution_count": null,
   "metadata": {},
   "outputs": [],
   "source": [
    "# best way to iterate over a dict\n",
    "for k, v in x.items():\n",
    "    print(k,'-->', v)"
   ]
  },
  {
   "cell_type": "code",
   "execution_count": null,
   "metadata": {},
   "outputs": [],
   "source": [
    "data = {\n",
    "    \"sol_keys\": [],\n",
    "    \"validity_checks\": {\n",
    "        \"1219\": {\n",
    "            \"AT\": {\n",
    "                \"sol_hours_with_data\": [\n",
    "                    6,\n",
    "                    7,\n",
    "                    8,\n",
    "                    9,\n",
    "                    10,\n",
    "                    11,\n",
    "                    12\n",
    "                ],\n",
    "                \"valid\": False\n",
    "            },\n",
    "            \"HWS\": {\n",
    "                \"sol_hours_with_data\": [\n",
    "                    6,\n",
    "                    7,\n",
    "                    8,\n",
    "                    9,\n",
    "                    10,\n",
    "                    11,\n",
    "                    12\n",
    "                ],\n",
    "                \"valid\": False\n",
    "            },\n",
    "            \"PRE\": {\n",
    "                \"sol_hours_with_data\": [\n",
    "                    6,\n",
    "                    7,\n",
    "                    8,\n",
    "                    9,\n",
    "                    10,\n",
    "                    11,\n",
    "                    12\n",
    "                ],\n",
    "                \"valid\": False\n",
    "            },\n",
    "            \"WD\": {\n",
    "                \"sol_hours_with_data\": [\n",
    "                    6,\n",
    "                    7,\n",
    "                    8,\n",
    "                    9,\n",
    "                    10,\n",
    "                    11,\n",
    "                    12\n",
    "                ],\n",
    "                \"valid\": False\n",
    "            }\n",
    "        },\n",
    "        \"sol_hours_required\": 18,\n",
    "        \"sols_checked\": [\n",
    "            \"1219\"\n",
    "        ]\n",
    "    }\n",
    "}"
   ]
  },
  {
   "cell_type": "code",
   "execution_count": null,
   "metadata": {},
   "outputs": [],
   "source": [
    "data"
   ]
  },
  {
   "cell_type": "code",
   "execution_count": null,
   "metadata": {},
   "outputs": [],
   "source": [
    "for k, v in data.items():\n",
    "    print(k, '-->', v)\n",
    "    if isinstance(v , dict):\n",
    "        for k1, v1 in v.items():\n",
    "            print(k1, '-->', v1)\n",
    "            if isinstance(v1, dict):\n",
    "                for k2, v2 in v1.items():\n",
    "                    print(k2, v2)"
   ]
  },
  {
   "cell_type": "code",
   "execution_count": 45,
   "metadata": {},
   "outputs": [
    {
     "name": "stdout",
     "output_type": "stream",
     "text": [
      "- sol_keys\n",
      "\t []\n",
      "- validity_checks\n",
      "- 1219\n",
      "- AT\n",
      "- sol_hours_with_data\n",
      "\t [6, 7, 8, 9, 10, 11, 12]\n",
      "- valid\n",
      "\t False\n",
      "- HWS\n",
      "- sol_hours_with_data\n",
      "\t [6, 7, 8, 9, 10, 11, 12]\n",
      "- valid\n",
      "\t False\n",
      "- PRE\n",
      "- sol_hours_with_data\n",
      "\t [6, 7, 8, 9, 10, 11, 12]\n",
      "- valid\n",
      "\t False\n",
      "- WD\n",
      "- sol_hours_with_data\n",
      "\t [6, 7, 8, 9, 10, 11, 12]\n",
      "- valid\n",
      "\t False\n",
      "- sol_hours_required\n",
      "\t 18\n",
      "- sols_checked\n",
      "\t ['1219']\n"
     ]
    }
   ],
   "source": [
    "# recursive function\n",
    "def extract(d):\n",
    "    for k, v in d.items():\n",
    "        print(f\"- {k}\")\n",
    "        if isinstance(v , dict):\n",
    "            extract(v)\n",
    "        else:\n",
    "            print('\\t', v)\n",
    "\n",
    "extract(data)"
   ]
  },
  {
   "cell_type": "code",
   "execution_count": null,
   "metadata": {},
   "outputs": [],
   "source": []
  }
 ],
 "metadata": {
  "kernelspec": {
   "display_name": "base",
   "language": "python",
   "name": "python3"
  },
  "language_info": {
   "codemirror_mode": {
    "name": "ipython",
    "version": 3
   },
   "file_extension": ".py",
   "mimetype": "text/x-python",
   "name": "python",
   "nbconvert_exporter": "python",
   "pygments_lexer": "ipython3",
   "version": "3.11.5"
  },
  "orig_nbformat": 4
 },
 "nbformat": 4,
 "nbformat_minor": 2
}
