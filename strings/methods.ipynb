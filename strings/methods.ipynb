{
 "cells": [
  {
   "cell_type": "markdown",
   "metadata": {},
   "source": [
    "# string methods\n",
    "- formatting\n",
    "    - upper()\n",
    "    - lower()\n",
    "    - capitalize()\n",
    "    - title()\n",
    "    - swapcase()\n",
    "    - casefold()\n",
    "- searching\n",
    "    - `find()`\n",
    "    - index()\n",
    "    - rfind()\n",
    "    - rindex()\n",
    "    - `count()`\n",
    "- validation\n",
    "    - isalpha()\n",
    "    - isalnum()\n",
    "    - isdigit()\n",
    "    - `startswith()`\n",
    "    - `endswith()`\n",
    "    - isspace()\n",
    "- manipulation\n",
    "    - `split()`\n",
    "    - rsplit()\n",
    "    - `join()`\n",
    "    - `strip()`\n",
    "    - rstrip()\n",
    "    - lstrip()\n",
    "    - `replace()`\n",
    "\n",
    "    "
   ]
  },
  {
   "cell_type": "code",
   "execution_count": 8,
   "metadata": {},
   "outputs": [],
   "source": [
    "msg = \"This is an Example of a MESSAGE STRING\""
   ]
  },
  {
   "cell_type": "code",
   "execution_count": 9,
   "metadata": {},
   "outputs": [],
   "source": [
    "msg_u = msg.upper()"
   ]
  },
  {
   "cell_type": "code",
   "execution_count": 10,
   "metadata": {},
   "outputs": [
    {
     "name": "stdout",
     "output_type": "stream",
     "text": [
      "this is an example of a message string\n",
      "This is an example of a message string\n",
      "This Is An Example Of A Message String\n",
      "tHIS IS AN eXAMPLE OF A message string\n",
      "this is an example of a message string\n",
      "THIS IS AN EXAMPLE OF A MESSAGE STRING\n"
     ]
    }
   ],
   "source": [
    "print(msg.lower())\n",
    "print(msg.capitalize())\n",
    "print(msg.title())\n",
    "print(msg.swapcase())\n",
    "print(msg.casefold())\n",
    "print(msg_u)"
   ]
  },
  {
   "cell_type": "code",
   "execution_count": 11,
   "metadata": {},
   "outputs": [
    {
     "data": {
      "text/plain": [
       "'This is an Example of a MESSAGE STRING'"
      ]
     },
     "execution_count": 11,
     "metadata": {},
     "output_type": "execute_result"
    }
   ],
   "source": [
    "msg"
   ]
  },
  {
   "cell_type": "code",
   "execution_count": 12,
   "metadata": {},
   "outputs": [
    {
     "data": {
      "text/plain": [
       "2"
      ]
     },
     "execution_count": 12,
     "metadata": {},
     "output_type": "execute_result"
    }
   ],
   "source": [
    "msg.find('is')"
   ]
  },
  {
   "cell_type": "code",
   "execution_count": 13,
   "metadata": {},
   "outputs": [
    {
     "data": {
      "text/plain": [
       "5"
      ]
     },
     "execution_count": 13,
     "metadata": {},
     "output_type": "execute_result"
    }
   ],
   "source": [
    "msg.find('is', 3)"
   ]
  },
  {
   "cell_type": "code",
   "execution_count": 14,
   "metadata": {},
   "outputs": [
    {
     "data": {
      "text/plain": [
       "-1"
      ]
     },
     "execution_count": 14,
     "metadata": {},
     "output_type": "execute_result"
    }
   ],
   "source": [
    "msg.find('is', 6)"
   ]
  },
  {
   "cell_type": "code",
   "execution_count": 15,
   "metadata": {},
   "outputs": [
    {
     "ename": "ValueError",
     "evalue": "substring not found",
     "output_type": "error",
     "traceback": [
      "\u001b[1;31m---------------------------------------------------------------------------\u001b[0m",
      "\u001b[1;31mValueError\u001b[0m                                Traceback (most recent call last)",
      "\u001b[1;32mc:\\Users\\ZAID\\Documents\\coding\\2023 SEP PY DS DA MTWF 200\\strings\\methods.ipynb Cell 9\u001b[0m line \u001b[0;36m1\n\u001b[1;32m----> <a href='vscode-notebook-cell:/c%3A/Users/ZAID/Documents/coding/2023%20SEP%20PY%20DS%20DA%20MTWF%20200/strings/methods.ipynb#X11sZmlsZQ%3D%3D?line=0'>1</a>\u001b[0m msg\u001b[39m.\u001b[39;49mindex(\u001b[39m'\u001b[39;49m\u001b[39mist\u001b[39;49m\u001b[39m'\u001b[39;49m)\n",
      "\u001b[1;31mValueError\u001b[0m: substring not found"
     ]
    }
   ],
   "source": [
    "msg.index('ist')"
   ]
  },
  {
   "cell_type": "code",
   "execution_count": null,
   "metadata": {},
   "outputs": [],
   "source": [
    "msg.count('b')"
   ]
  },
  {
   "cell_type": "code",
   "execution_count": null,
   "metadata": {},
   "outputs": [],
   "source": [
    "'this that this that'.count('that')"
   ]
  },
  {
   "cell_type": "code",
   "execution_count": null,
   "metadata": {},
   "outputs": [],
   "source": [
    "name = 'Vijay'\n",
    "print(name.isalpha())\n",
    "print(name.isdigit())\n",
    "print(name.isalnum())\n",
    "print(name.islower())\n",
    "print(name.isupper())\n",
    "print(name.istitle())"
   ]
  },
  {
   "cell_type": "code",
   "execution_count": null,
   "metadata": {},
   "outputs": [],
   "source": [
    "guests = ['Mr. Alex', 'Ms. Gupta', 'Mr. Smith', 'Mr. Vijay', 'Ms. Smith']\n",
    "for name in guests:\n",
    "    if name.startswith('Mr.'):\n",
    "        print(f'Hello {name}')\n",
    "    elif name.startswith('Ms.'):\n",
    "        print(f'Hi {name}')\n",
    "    else:\n",
    "        print(\"Yo\")"
   ]
  },
  {
   "cell_type": "code",
   "execution_count": null,
   "metadata": {},
   "outputs": [],
   "source": [
    "files = ['file1.txt', 'file2.txt', 'file3.txt',\n",
    "         'file4.csv', 'file5.csv', 'file6.csv']\n",
    "for file in files:\n",
    "    if file.endswith('txt'): print(f\"{file} text\")\n",
    "    elif file.endswith('csv'): print(f\"{file} csv\")\n",
    "    else: print(f\"{file} unknown\")"
   ]
  },
  {
   "cell_type": "code",
   "execution_count": null,
   "metadata": {},
   "outputs": [],
   "source": [
    "poem = '''Johny Johny, Yes Papa,\n",
    "Eating sugar? No Papa,\n",
    "Telling lies? No Papa,\n",
    "Open your mouth Ha! Ha! Ha!'''"
   ]
  },
  {
   "cell_type": "code",
   "execution_count": null,
   "metadata": {},
   "outputs": [],
   "source": [
    "print(poem)"
   ]
  },
  {
   "cell_type": "code",
   "execution_count": null,
   "metadata": {},
   "outputs": [],
   "source": [
    "poem.split()"
   ]
  },
  {
   "cell_type": "code",
   "execution_count": null,
   "metadata": {},
   "outputs": [],
   "source": [
    "poem.splitlines()"
   ]
  },
  {
   "cell_type": "code",
   "execution_count": null,
   "metadata": {},
   "outputs": [],
   "source": [
    "poem.split(\",\") # split on comma"
   ]
  },
  {
   "cell_type": "code",
   "execution_count": null,
   "metadata": {},
   "outputs": [
    {
     "name": "stdout",
     "output_type": "stream",
     "text": [
      "movie1\n",
      "song1\n",
      "image1\n",
      "text101\n"
     ]
    }
   ],
   "source": [
    "files = ['movie1.mp4', 'song1.mp3', 'image1.jpg', 'text101.txt']\n",
    "for f in files:\n",
    "    name = f.split('.')[0] # first part of the file name\n",
    "    print(name)"
   ]
  },
  {
   "cell_type": "code",
   "execution_count": null,
   "metadata": {},
   "outputs": [
    {
     "data": {
      "text/plain": [
       "['movie1.mp4', 'song1.mp3', 'image1.jpg', 'text101.txt']"
      ]
     },
     "execution_count": 48,
     "metadata": {},
     "output_type": "execute_result"
    }
   ],
   "source": [
    "files"
   ]
  },
  {
   "cell_type": "code",
   "execution_count": null,
   "metadata": {},
   "outputs": [
    {
     "name": "stdout",
     "output_type": "stream",
     "text": [
      "movie1.mp4, song1.mp3, image1.jpg, text101.txt\n"
     ]
    }
   ],
   "source": [
    "print(\", \".join(files))"
   ]
  },
  {
   "cell_type": "code",
   "execution_count": null,
   "metadata": {},
   "outputs": [
    {
     "name": "stdout",
     "output_type": "stream",
     "text": [
      "C:/users/zaid/downloads/image.jpg\n"
     ]
    }
   ],
   "source": [
    "path = ['C:','users','zaid','downloads','image.jpg']\n",
    "\n",
    "print(\"/\".join(path))"
   ]
  },
  {
   "cell_type": "markdown",
   "metadata": {},
   "source": [
    "20 - SEP - 2021"
   ]
  },
  {
   "cell_type": "code",
   "execution_count": null,
   "metadata": {},
   "outputs": [],
   "source": [
    "# STRIP"
   ]
  },
  {
   "cell_type": "code",
   "execution_count": null,
   "metadata": {},
   "outputs": [
    {
     "name": "stdout",
     "output_type": "stream",
     "text": [
      "   Vijay Kumar    17\n",
      "Vijay Kumar 11\n",
      "Vijay Kumar    14\n",
      "   Vijay Kumar 14\n"
     ]
    }
   ],
   "source": [
    "name = \"   Vijay Kumar   \"\n",
    "clean_name = name.strip() # leading n trailing spaces removed\n",
    "name_1 = name.lstrip() # leading spaces removed\n",
    "name_2 = name.rstrip() # trailing spaces removed\n",
    "print(name, len(name))\n",
    "print(clean_name, len(clean_name))\n",
    "print(name_1, len(name_1))\n",
    "print(name_2, len(name_2))"
   ]
  },
  {
   "cell_type": "code",
   "execution_count": null,
   "metadata": {},
   "outputs": [
    {
     "data": {
      "text/plain": [
       "'A simple object'"
      ]
     },
     "execution_count": 15,
     "metadata": {},
     "output_type": "execute_result"
    }
   ],
   "source": [
    "data = '''\n",
    " \n",
    " A simple object\n",
    "\n",
    "'''\n",
    "\n",
    "data.strip()"
   ]
  },
  {
   "cell_type": "code",
   "execution_count": null,
   "metadata": {},
   "outputs": [
    {
     "data": {
      "text/plain": [
       "'Word Example'"
      ]
     },
     "execution_count": 17,
     "metadata": {},
     "output_type": "execute_result"
    }
   ],
   "source": [
    "content = '####..##..######Word Example...#...'\n",
    "content.strip('#.')"
   ]
  },
  {
   "cell_type": "code",
   "execution_count": null,
   "metadata": {},
   "outputs": [],
   "source": [
    "msg = \"This is an example of content in a string\""
   ]
  },
  {
   "cell_type": "code",
   "execution_count": null,
   "metadata": {},
   "outputs": [
    {
     "data": {
      "text/plain": [
       "'This is en exemple of content in e string'"
      ]
     },
     "execution_count": 19,
     "metadata": {},
     "output_type": "execute_result"
    }
   ],
   "source": [
    "msg.replace('a', 'e')"
   ]
  },
  {
   "cell_type": "code",
   "execution_count": null,
   "metadata": {},
   "outputs": [
    {
     "data": {
      "text/plain": [
       "'This is an easy example of content in a string'"
      ]
     },
     "execution_count": 20,
     "metadata": {},
     "output_type": "execute_result"
    }
   ],
   "source": [
    "msg.replace('example', 'easy example')"
   ]
  },
  {
   "cell_type": "code",
   "execution_count": null,
   "metadata": {},
   "outputs": [
    {
     "data": {
      "text/plain": [
       "'Thare are an example of content in a string'"
      ]
     },
     "execution_count": 21,
     "metadata": {},
     "output_type": "execute_result"
    }
   ],
   "source": [
    "msg.replace('is', 'are')"
   ]
  },
  {
   "cell_type": "code",
   "execution_count": null,
   "metadata": {},
   "outputs": [
    {
     "data": {
      "text/plain": [
       "'that was an example of content within a string'"
      ]
     },
     "execution_count": 24,
     "metadata": {},
     "output_type": "execute_result"
    }
   ],
   "source": [
    "msg.replace('This','that').replace('is', 'was').replace('in', 'within', 1)"
   ]
  },
  {
   "cell_type": "code",
   "execution_count": null,
   "metadata": {},
   "outputs": [
    {
     "data": {
      "text/plain": [
       "'This are an example of content in a string'"
      ]
     },
     "execution_count": 27,
     "metadata": {},
     "output_type": "execute_result"
    }
   ],
   "source": [
    "modified_msg = msg.replace(' is', ' are')\n",
    "modified_msg"
   ]
  },
  {
   "cell_type": "code",
   "execution_count": null,
   "metadata": {},
   "outputs": [
    {
     "name": "stdout",
     "output_type": "stream",
     "text": [
      "python\n"
     ]
    }
   ],
   "source": [
    "text = '%p34@y!*-*!t68h#&on404'\n",
    "ans = ''\n",
    "for char in text:\n",
    "    if char.isalpha():\n",
    "        ans+=char\n",
    "print(ans)"
   ]
  },
  {
   "cell_type": "code",
   "execution_count": null,
   "metadata": {},
   "outputs": [
    {
     "name": "stdout",
     "output_type": "stream",
     "text": [
      "python\n"
     ]
    }
   ],
   "source": [
    "from string import punctuation, digits\n",
    "text = '%p34@y!*-*!t68h#&on404'\n",
    "for p in punctuation+digits:\n",
    "    text = text.replace(p, '')\n",
    "print(text)"
   ]
  },
  {
   "cell_type": "markdown",
   "metadata": {},
   "source": [
    "Remove all the vowels from a strings given by user"
   ]
  },
  {
   "cell_type": "code",
   "execution_count": null,
   "metadata": {},
   "outputs": [
    {
     "name": "stdout",
     "output_type": "stream",
     "text": [
      "ths s  cntnt tht my r my nt hv vwls\n"
     ]
    }
   ],
   "source": [
    "msg = input(\"Kehna kya chahte ho? \")\n",
    "for v in \"aeiouAEIOU\":\n",
    "    msg = msg.replace(v, '')\n",
    "print(msg)"
   ]
  },
  {
   "cell_type": "code",
   "execution_count": null,
   "metadata": {},
   "outputs": [],
   "source": [
    "names = ['Alex Smith','John Howard','Ravi Mishra', \"Arti Kumari\", 'Vivel Kapoor', 'Vijay Deenanath Chauhan']"
   ]
  },
  {
   "cell_type": "code",
   "execution_count": null,
   "metadata": {},
   "outputs": [
    {
     "name": "stdout",
     "output_type": "stream",
     "text": [
      "A.S.\n",
      "J.H.\n",
      "R.M.\n",
      "A.K.\n",
      "V.K.\n",
      "V.C.\n"
     ]
    }
   ],
   "source": [
    "for name in names:\n",
    "    fn, *_ , ln = name.split() # *_ is a throwaway variable for middle name\n",
    "    print(f\"{fn[0]}.{ln[0]}.\")"
   ]
  },
  {
   "cell_type": "code",
   "execution_count": null,
   "metadata": {},
   "outputs": [
    {
     "data": {
      "text/plain": [
       "['Ajay', 'Kumar', '(Padhaku)', 'Garg']"
      ]
     },
     "execution_count": 77,
     "metadata": {},
     "output_type": "execute_result"
    }
   ],
   "source": [
    "name = 'Ajay Kumar (Padhaku) Garg'\n",
    "name.split()"
   ]
  },
  {
   "cell_type": "code",
   "execution_count": null,
   "metadata": {},
   "outputs": [
    {
     "name": "stdout",
     "output_type": "stream",
     "text": [
      "Ajay Kumar ['(Padhaku)', 'Garg']\n"
     ]
    }
   ],
   "source": [
    "p1, p2, *p3 = name.split() # unpacking\n",
    "print(p1, p2, p3)"
   ]
  },
  {
   "cell_type": "code",
   "execution_count": null,
   "metadata": {},
   "outputs": [
    {
     "name": "stdout",
     "output_type": "stream",
     "text": [
      "Ajay ['Kumar', '(Padhaku)'] Garg\n"
     ]
    }
   ],
   "source": [
    "p1, *_, p2 = name.split()\n",
    "print(p1,_, p2)"
   ]
  },
  {
   "cell_type": "code",
   "execution_count": null,
   "metadata": {},
   "outputs": [
    {
     "name": "stdout",
     "output_type": "stream",
     "text": [
      "avg word length:  4.636363636363637\n"
     ]
    }
   ],
   "source": [
    "# avg word length\n",
    "text = 'this is a paragraph which is written just for the purpose of providing content to let the average word length be calculated'\n",
    "words = text.split()\n",
    "chars = 0\n",
    "for word in words:\n",
    "    chars+=len(word)\n",
    "print(\"avg word length: \",chars/len(words))\n"
   ]
  },
  {
   "cell_type": "code",
   "execution_count": null,
   "metadata": {},
   "outputs": [],
   "source": []
  }
 ],
 "metadata": {
  "kernelspec": {
   "display_name": "base",
   "language": "python",
   "name": "python3"
  },
  "language_info": {
   "codemirror_mode": {
    "name": "ipython",
    "version": 3
   },
   "file_extension": ".py",
   "mimetype": "text/x-python",
   "name": "python",
   "nbconvert_exporter": "python",
   "pygments_lexer": "ipython3",
   "version": "3.11.5"
  },
  "orig_nbformat": 4
 },
 "nbformat": 4,
 "nbformat_minor": 2
}
