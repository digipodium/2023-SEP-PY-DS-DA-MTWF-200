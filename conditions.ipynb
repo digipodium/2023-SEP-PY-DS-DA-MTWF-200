{
 "cells": [
  {
   "cell_type": "markdown",
   "metadata": {},
   "source": [
    "# Conditions\n",
    "\n",
    "### indentation (PeP8)\n",
    "indentation is the way to tell python that a block of code is related to a control structure. This is done by indenting the code with a tab or 4 spaces. The indentation is removed when the block ends."
   ]
  },
  {
   "cell_type": "markdown",
   "metadata": {},
   "source": [
    "```\n",
    "if condition:\n",
    "    # code\n",
    "\n",
    "else:\n",
    "    code\n",
    "\n",
    "elif condition:\n",
    "    # code\n",
    "\n",
    "match value:\n",
    "    case condition:\n",
    "        # code\n",
    "\n",
    "for expression:\n",
    "    # code\n",
    "\n",
    "while condition:\n",
    "    # code\n",
    "\n",
    "try:\n",
    "    # code\n",
    "\n",
    "except:\n",
    "    # code\n",
    "\n",
    "finally:\n",
    "    # code\n",
    "\n",
    "with expression:\n",
    "    # code\n",
    "\n",
    "def function():\n",
    "    # code\n",
    "\n",
    "class ClassName:\n",
    "    # code\n",
    "```"
   ]
  },
  {
   "cell_type": "code",
   "execution_count": null,
   "metadata": {},
   "outputs": [],
   "source": [
    "x = 10\n",
    "if x > 3:\n",
    "    print('x is greater than 3')"
   ]
  },
  {
   "cell_type": "code",
   "execution_count": null,
   "metadata": {},
   "outputs": [],
   "source": [
    "if x < x - 3:\n",
    "    print('x is less than x - 3')"
   ]
  },
  {
   "cell_type": "code",
   "execution_count": null,
   "metadata": {},
   "outputs": [],
   "source": [
    "if x == 5:\n",
    "    print('x is equal to 5')\n",
    "if x == 10:\n",
    "    print('x is equal to 10')\n",
    "if x >= 10:\n",
    "    print('x is greater than 10')"
   ]
  },
  {
   "cell_type": "code",
   "execution_count": null,
   "metadata": {},
   "outputs": [],
   "source": [
    "username = input(\"enter username\")\n",
    "password = input(\"enter password\")\n",
    "if username:\n",
    "    if password:\n",
    "        if username == 'Alex' and password == 'Alexa':\n",
    "            print(\"Login successful\")"
   ]
  },
  {
   "cell_type": "code",
   "execution_count": 9,
   "metadata": {},
   "outputs": [
    {
     "ename": "SyntaxError",
     "evalue": "invalid syntax (3804879458.py, line 5)",
     "output_type": "error",
     "traceback": [
      "\u001b[1;36m  Cell \u001b[1;32mIn[9], line 5\u001b[1;36m\u001b[0m\n\u001b[1;33m    if username == 'Alex' and password = 'Alexa':\u001b[0m\n\u001b[1;37m                                       ^\u001b[0m\n\u001b[1;31mSyntaxError\u001b[0m\u001b[1;31m:\u001b[0m invalid syntax\n"
     ]
    }
   ],
   "source": [
    "username = input(\"enter username\")\n",
    "password = input(\"enter password\")\n",
    "if username:\n",
    "    if password:\n",
    "        if username == 'Alex' and password == 'Alexa':\n",
    "            print(\"✅Login successful\")\n",
    "        else:\n",
    "            print(\"❌Login failed\")\n",
    "    else:\n",
    "        print(\"🔑Password is empty\")\n",
    "else:\n",
    "    print(\"👤Username is empty\")"
   ]
  },
  {
   "cell_type": "code",
   "execution_count": 13,
   "metadata": {},
   "outputs": [
    {
     "name": "stdout",
     "output_type": "stream",
     "text": [
      "Sunday is my day off 🏖\n"
     ]
    }
   ],
   "source": [
    "offday = input(\"enter your off day:\")\n",
    "match(offday):\n",
    "    case 'Sunday': \n",
    "        print(\"Sunday is my day off 🏖\")\n",
    "    case 'Wednesday':\n",
    "        print(\"Wednesday is my day off 🏖\")\n",
    "    case 'Saturday':\n",
    "        print(\"Saturday is my day off 🏖\")\n",
    "    case 'Thursday':\n",
    "        print(\"Thursday is my day off 🏖\")\n",
    "    case 'Friday':\n",
    "        print(\"Friday is my day off 🏖\")\n",
    "    case 'Tuesday':\n",
    "        print(\"Tuesday is my day off 🏖\")\n",
    "    case 'Monday':\n",
    "        print(\"Monday is my day off 🏖\")\n",
    "    case _:\n",
    "        print(\"I have no day off 😭\")"
   ]
  },
  {
   "cell_type": "code",
   "execution_count": null,
   "metadata": {},
   "outputs": [],
   "source": []
  }
 ],
 "metadata": {
  "kernelspec": {
   "display_name": "base",
   "language": "python",
   "name": "python3"
  },
  "language_info": {
   "codemirror_mode": {
    "name": "ipython",
    "version": 3
   },
   "file_extension": ".py",
   "mimetype": "text/x-python",
   "name": "python",
   "nbconvert_exporter": "python",
   "pygments_lexer": "ipython3",
   "version": "3.11.5"
  },
  "orig_nbformat": 4
 },
 "nbformat": 4,
 "nbformat_minor": 2
}
