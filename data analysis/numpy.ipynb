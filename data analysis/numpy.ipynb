{
 "cells": [
  {
   "cell_type": "markdown",
   "metadata": {},
   "source": [
    "# Numpy\n",
    "- create array\n",
    "- maths\n",
    "- operations"
   ]
  },
  {
   "cell_type": "markdown",
   "metadata": {},
   "source": [
    "without numpy doing maths(matrix maths) is very complex in a any language"
   ]
  },
  {
   "cell_type": "code",
   "execution_count": null,
   "metadata": {},
   "outputs": [],
   "source": [
    "import numpy as np"
   ]
  },
  {
   "cell_type": "code",
   "execution_count": null,
   "metadata": {},
   "outputs": [],
   "source": [
    "x = np.array([\n",
    "    [1, 2, 3],\n",
    "    [3, 4, 5]\n",
    "])\n",
    "print(x)\n",
    "print(type(x))\n",
    "print(x.shape)"
   ]
  },
  {
   "cell_type": "code",
   "execution_count": null,
   "metadata": {},
   "outputs": [],
   "source": [
    "print(x.sum())\n",
    "print(x.sum(axis=0)) # sum of each column\n",
    "print(x.sum(axis=1)) # sum of each row"
   ]
  },
  {
   "cell_type": "code",
   "execution_count": null,
   "metadata": {},
   "outputs": [],
   "source": [
    "a = np.array([1, 2, 3]) # simple 1d matrix\n",
    "b = np.array([[1,1],[2,2],[3,3]]) # 2d matrix\n",
    "c = np.array([[[1,1],[2,2],[3,3]]]) # 3d matrix\n",
    "print(a.shape, a.ndim)\n",
    "print(b.shape, b.ndim)\n",
    "print(c.shape, c.ndim)"
   ]
  },
  {
   "cell_type": "markdown",
   "metadata": {},
   "source": [
    "# matrix creation\n",
    "- sequential\n",
    "    - arange\n",
    "    - linspace\n",
    "- random\n",
    "    - rand\n",
    "    - randint\n",
    "    - uniform"
   ]
  },
  {
   "cell_type": "code",
   "execution_count": null,
   "metadata": {},
   "outputs": [],
   "source": [
    "x = np.arange(1, 11, .5) # start, end, step\n",
    "print(x)\n",
    "y = np.linspace(0, 10,6) # start, end, number of points \n",
    "print(y)"
   ]
  },
  {
   "cell_type": "code",
   "execution_count": null,
   "metadata": {},
   "outputs": [],
   "source": [
    "np.arange(1, 11, .5).reshape(5,4) # reshape to 4x5 matrix"
   ]
  },
  {
   "cell_type": "code",
   "execution_count": null,
   "metadata": {},
   "outputs": [],
   "source": [
    "np.arange(-3.14,3.14, .2).reshape(8,4)"
   ]
  },
  {
   "cell_type": "code",
   "execution_count": null,
   "metadata": {},
   "outputs": [],
   "source": [
    "x1 = np.array([[1,2,3], [4, 5, 6]])\n",
    "x2 = np.array([[4, 2, 3], [2, 6, 6]])"
   ]
  },
  {
   "cell_type": "code",
   "execution_count": null,
   "metadata": {},
   "outputs": [],
   "source": []
  },
  {
   "cell_type": "code",
   "execution_count": null,
   "metadata": {},
   "outputs": [],
   "source": [
    "print(x1)\n",
    "print(x2)\n",
    "print(x1 + x2)\n",
    "print(x1 - x2)\n",
    "print(x1 * x2)\n",
    "print(x1 / x2)\n",
    "print(x1 // x2)\n",
    "print(x1 % x2)\n",
    "print(x1 ** x2)\n",
    "# comparison in numpy results in boolean array\n",
    "print(x1 > x2)\n",
    "print(x1 < x2)\n",
    "print(x1 >= x2)\n",
    "print(x1 <= x2)"
   ]
  },
  {
   "cell_type": "code",
   "execution_count": null,
   "metadata": {},
   "outputs": [],
   "source": [
    "a = np.random.rand(3,2)\n",
    "a"
   ]
  },
  {
   "cell_type": "code",
   "execution_count": null,
   "metadata": {},
   "outputs": [],
   "source": [
    "np.set_printoptions(precision=2)"
   ]
  },
  {
   "cell_type": "code",
   "execution_count": 64,
   "metadata": {},
   "outputs": [
    {
     "data": {
      "text/plain": [
       "array([[6, 1, 3],\n",
       "       [1, 8, 5],\n",
       "       [5, 5, 7]])"
      ]
     },
     "execution_count": 64,
     "metadata": {},
     "output_type": "execute_result"
    }
   ],
   "source": [
    "b = np.random.randint(0, 10, (3, 3))\n",
    "b"
   ]
  },
  {
   "cell_type": "code",
   "execution_count": 63,
   "metadata": {},
   "outputs": [
    {
     "data": {
      "text/plain": [
       "array([[5.52, 6.23, 0.1 , 9.91, 3.91],\n",
       "       [5.52, 0.61, 7.79, 4.2 , 2.9 ],\n",
       "       [9.79, 8.98, 4.49, 4.35, 1.98],\n",
       "       [2.31, 9.37, 9.13, 2.97, 6.35],\n",
       "       [6.23, 8.89, 6.91, 0.4 , 1.08]])"
      ]
     },
     "execution_count": 63,
     "metadata": {},
     "output_type": "execute_result"
    }
   ],
   "source": [
    "c = np.random.uniform(0, 10, (5,5))\n",
    "c"
   ]
  },
  {
   "cell_type": "code",
   "execution_count": null,
   "metadata": {},
   "outputs": [],
   "source": []
  }
 ],
 "metadata": {
  "kernelspec": {
   "display_name": "base",
   "language": "python",
   "name": "python3"
  },
  "language_info": {
   "codemirror_mode": {
    "name": "ipython",
    "version": 3
   },
   "file_extension": ".py",
   "mimetype": "text/x-python",
   "name": "python",
   "nbconvert_exporter": "python",
   "pygments_lexer": "ipython3",
   "version": "3.11.5"
  }
 },
 "nbformat": 4,
 "nbformat_minor": 2
}
